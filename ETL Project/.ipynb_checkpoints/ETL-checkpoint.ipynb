{
 "cells": [
  {
   "cell_type": "code",
   "execution_count": 1,
   "metadata": {},
   "outputs": [],
   "source": [
    "# Dependencies\n",
    "import pandas as pd\n",
    "import numpy as np"
   ]
  },
  {
   "cell_type": "code",
   "execution_count": 2,
   "metadata": {
    "inputHidden": false,
    "outputHidden": false
   },
   "outputs": [],
   "source": [
    "# Name of the CSV file\n",
    "file = 'can.csv'"
   ]
  },
  {
   "cell_type": "code",
   "execution_count": 3,
   "metadata": {
    "inputHidden": false,
    "outputHidden": false
   },
   "outputs": [],
   "source": [
    "# The correct encoding must be used to read the CSV in pandas\n",
    "df = pd.read_csv(file, encoding=\"ISO-8859-1\")"
   ]
  },
  {
   "cell_type": "code",
   "execution_count": 4,
   "metadata": {
    "inputHidden": false,
    "outputHidden": false
   },
   "outputs": [
    {
     "data": {
      "text/html": [
       "<div>\n",
       "<style scoped>\n",
       "    .dataframe tbody tr th:only-of-type {\n",
       "        vertical-align: middle;\n",
       "    }\n",
       "\n",
       "    .dataframe tbody tr th {\n",
       "        vertical-align: top;\n",
       "    }\n",
       "\n",
       "    .dataframe thead th {\n",
       "        text-align: right;\n",
       "    }\n",
       "</style>\n",
       "<table border=\"1\" class=\"dataframe\">\n",
       "  <thead>\n",
       "    <tr style=\"text-align: right;\">\n",
       "      <th></th>\n",
       "      <th>Year</th>\n",
       "      <th>Country / territory of asylum/residence</th>\n",
       "      <th>Origin</th>\n",
       "      <th>Refugees (incl. refugee-like situations)</th>\n",
       "      <th>Asylum-seekers (pending cases)</th>\n",
       "      <th>Returned refugees</th>\n",
       "      <th>Internally displaced persons (IDPs)</th>\n",
       "      <th>Returned IDPs</th>\n",
       "      <th>Stateless persons</th>\n",
       "      <th>Others of concern</th>\n",
       "      <th>Total Population</th>\n",
       "    </tr>\n",
       "  </thead>\n",
       "  <tbody>\n",
       "    <tr>\n",
       "      <th>0</th>\n",
       "      <td>#date+year</td>\n",
       "      <td>#country+residence</td>\n",
       "      <td>#country+origin</td>\n",
       "      <td>#affected+refugees</td>\n",
       "      <td>#affected+asylum</td>\n",
       "      <td>#affected+returned_refugees</td>\n",
       "      <td>#affected+idps</td>\n",
       "      <td>#affected+returned_idps</td>\n",
       "      <td>#affected+stateless</td>\n",
       "      <td>#affected+others</td>\n",
       "      <td>#affected+total</td>\n",
       "    </tr>\n",
       "    <tr>\n",
       "      <th>1</th>\n",
       "      <td>1951</td>\n",
       "      <td>Canada</td>\n",
       "      <td>Various/Unknown</td>\n",
       "      <td>168511</td>\n",
       "      <td>NaN</td>\n",
       "      <td>NaN</td>\n",
       "      <td>NaN</td>\n",
       "      <td>NaN</td>\n",
       "      <td>NaN</td>\n",
       "      <td>NaN</td>\n",
       "      <td>168511</td>\n",
       "    </tr>\n",
       "    <tr>\n",
       "      <th>2</th>\n",
       "      <td>1952</td>\n",
       "      <td>Canada</td>\n",
       "      <td>Various/Unknown</td>\n",
       "      <td>154828</td>\n",
       "      <td>NaN</td>\n",
       "      <td>NaN</td>\n",
       "      <td>NaN</td>\n",
       "      <td>NaN</td>\n",
       "      <td>NaN</td>\n",
       "      <td>NaN</td>\n",
       "      <td>154828</td>\n",
       "    </tr>\n",
       "    <tr>\n",
       "      <th>3</th>\n",
       "      <td>1953</td>\n",
       "      <td>Canada</td>\n",
       "      <td>Various/Unknown</td>\n",
       "      <td>107004</td>\n",
       "      <td>NaN</td>\n",
       "      <td>NaN</td>\n",
       "      <td>NaN</td>\n",
       "      <td>NaN</td>\n",
       "      <td>NaN</td>\n",
       "      <td>NaN</td>\n",
       "      <td>107004</td>\n",
       "    </tr>\n",
       "    <tr>\n",
       "      <th>4</th>\n",
       "      <td>1954</td>\n",
       "      <td>Canada</td>\n",
       "      <td>Various/Unknown</td>\n",
       "      <td>75828</td>\n",
       "      <td>NaN</td>\n",
       "      <td>NaN</td>\n",
       "      <td>NaN</td>\n",
       "      <td>NaN</td>\n",
       "      <td>NaN</td>\n",
       "      <td>NaN</td>\n",
       "      <td>75828</td>\n",
       "    </tr>\n",
       "  </tbody>\n",
       "</table>\n",
       "</div>"
      ],
      "text/plain": [
       "         Year Country / territory of asylum/residence           Origin  \\\n",
       "0  #date+year                      #country+residence  #country+origin   \n",
       "1        1951                                  Canada  Various/Unknown   \n",
       "2        1952                                  Canada  Various/Unknown   \n",
       "3        1953                                  Canada  Various/Unknown   \n",
       "4        1954                                  Canada  Various/Unknown   \n",
       "\n",
       "  Refugees (incl. refugee-like situations) Asylum-seekers (pending cases)  \\\n",
       "0                       #affected+refugees               #affected+asylum   \n",
       "1                                   168511                            NaN   \n",
       "2                                   154828                            NaN   \n",
       "3                                   107004                            NaN   \n",
       "4                                    75828                            NaN   \n",
       "\n",
       "             Returned refugees Internally displaced persons (IDPs)  \\\n",
       "0  #affected+returned_refugees                      #affected+idps   \n",
       "1                          NaN                                 NaN   \n",
       "2                          NaN                                 NaN   \n",
       "3                          NaN                                 NaN   \n",
       "4                          NaN                                 NaN   \n",
       "\n",
       "             Returned IDPs    Stateless persons Others of concern  \\\n",
       "0  #affected+returned_idps  #affected+stateless  #affected+others   \n",
       "1                      NaN                  NaN               NaN   \n",
       "2                      NaN                  NaN               NaN   \n",
       "3                      NaN                  NaN               NaN   \n",
       "4                      NaN                  NaN               NaN   \n",
       "\n",
       "  Total Population  \n",
       "0  #affected+total  \n",
       "1           168511  \n",
       "2           154828  \n",
       "3           107004  \n",
       "4            75828  "
      ]
     },
     "execution_count": 4,
     "metadata": {},
     "output_type": "execute_result"
    }
   ],
   "source": [
    "# Preview of the DataFrame\n",
    "# Note that FIELD8 is likely a meaningless column\n",
    "df.head()"
   ]
  },
  {
   "cell_type": "code",
   "execution_count": 5,
   "metadata": {
    "inputHidden": false,
    "outputHidden": false
   },
   "outputs": [
    {
     "data": {
      "text/plain": [
       "Year                                        4282\n",
       "Country / territory of asylum/residence     4282\n",
       "Origin                                      4282\n",
       "Refugees (incl. refugee-like situations)    4115\n",
       "Asylum-seekers (pending cases)              2991\n",
       "Returned refugees                             43\n",
       "Internally displaced persons (IDPs)            1\n",
       "Returned IDPs                                  1\n",
       "Stateless persons                              2\n",
       "Others of concern                              1\n",
       "Total Population                            4282\n",
       "dtype: int64"
      ]
     },
     "execution_count": 5,
     "metadata": {},
     "output_type": "execute_result"
    }
   ],
   "source": [
    "# Identify incomplete rows\n",
    "df.count()"
   ]
  },
  {
   "cell_type": "code",
   "execution_count": 6,
   "metadata": {
    "inputHidden": false,
    "outputHidden": false
   },
   "outputs": [
    {
     "data": {
      "text/html": [
       "<div>\n",
       "<style scoped>\n",
       "    .dataframe tbody tr th:only-of-type {\n",
       "        vertical-align: middle;\n",
       "    }\n",
       "\n",
       "    .dataframe tbody tr th {\n",
       "        vertical-align: top;\n",
       "    }\n",
       "\n",
       "    .dataframe thead th {\n",
       "        text-align: right;\n",
       "    }\n",
       "</style>\n",
       "<table border=\"1\" class=\"dataframe\">\n",
       "  <thead>\n",
       "    <tr style=\"text-align: right;\">\n",
       "      <th></th>\n",
       "      <th>Year</th>\n",
       "      <th>Country / territory of asylum/residence</th>\n",
       "      <th>Origin</th>\n",
       "      <th>Refugees (incl. refugee-like situations)</th>\n",
       "      <th>Total Population</th>\n",
       "    </tr>\n",
       "  </thead>\n",
       "  <tbody>\n",
       "    <tr>\n",
       "      <th>0</th>\n",
       "      <td>#date+year</td>\n",
       "      <td>#country+residence</td>\n",
       "      <td>#country+origin</td>\n",
       "      <td>#affected+refugees</td>\n",
       "      <td>#affected+total</td>\n",
       "    </tr>\n",
       "    <tr>\n",
       "      <th>1</th>\n",
       "      <td>1951</td>\n",
       "      <td>Canada</td>\n",
       "      <td>Various/Unknown</td>\n",
       "      <td>168511</td>\n",
       "      <td>168511</td>\n",
       "    </tr>\n",
       "    <tr>\n",
       "      <th>2</th>\n",
       "      <td>1952</td>\n",
       "      <td>Canada</td>\n",
       "      <td>Various/Unknown</td>\n",
       "      <td>154828</td>\n",
       "      <td>154828</td>\n",
       "    </tr>\n",
       "    <tr>\n",
       "      <th>3</th>\n",
       "      <td>1953</td>\n",
       "      <td>Canada</td>\n",
       "      <td>Various/Unknown</td>\n",
       "      <td>107004</td>\n",
       "      <td>107004</td>\n",
       "    </tr>\n",
       "    <tr>\n",
       "      <th>4</th>\n",
       "      <td>1954</td>\n",
       "      <td>Canada</td>\n",
       "      <td>Various/Unknown</td>\n",
       "      <td>75828</td>\n",
       "      <td>75828</td>\n",
       "    </tr>\n",
       "  </tbody>\n",
       "</table>\n",
       "</div>"
      ],
      "text/plain": [
       "         Year Country / territory of asylum/residence           Origin  \\\n",
       "0  #date+year                      #country+residence  #country+origin   \n",
       "1        1951                                  Canada  Various/Unknown   \n",
       "2        1952                                  Canada  Various/Unknown   \n",
       "3        1953                                  Canada  Various/Unknown   \n",
       "4        1954                                  Canada  Various/Unknown   \n",
       "\n",
       "  Refugees (incl. refugee-like situations) Total Population  \n",
       "0                       #affected+refugees  #affected+total  \n",
       "1                                   168511           168511  \n",
       "2                                   154828           154828  \n",
       "3                                   107004           107004  \n",
       "4                                    75828            75828  "
      ]
     },
     "execution_count": 6,
     "metadata": {},
     "output_type": "execute_result"
    }
   ],
   "source": [
    "# Organize the columns so they are in a more logical order\n",
    "can_df_1 = df[[\n",
    "    \"Year\", \"Country / territory of asylum/residence\", \"Origin\", \"Refugees (incl. refugee-like situations)\", \"Total Population\"]]\n",
    "\n",
    "can_df_1.head()"
   ]
  },
  {
   "cell_type": "code",
   "execution_count": 7,
   "metadata": {},
   "outputs": [
    {
     "data": {
      "text/html": [
       "<div>\n",
       "<style scoped>\n",
       "    .dataframe tbody tr th:only-of-type {\n",
       "        vertical-align: middle;\n",
       "    }\n",
       "\n",
       "    .dataframe tbody tr th {\n",
       "        vertical-align: top;\n",
       "    }\n",
       "\n",
       "    .dataframe thead th {\n",
       "        text-align: right;\n",
       "    }\n",
       "</style>\n",
       "<table border=\"1\" class=\"dataframe\">\n",
       "  <thead>\n",
       "    <tr style=\"text-align: right;\">\n",
       "      <th></th>\n",
       "      <th>Year</th>\n",
       "      <th>Country / territory of asylum/residence</th>\n",
       "      <th>Origin</th>\n",
       "      <th>Refugees (incl. refugee-like situations)</th>\n",
       "      <th>Total Population</th>\n",
       "    </tr>\n",
       "  </thead>\n",
       "  <tbody>\n",
       "    <tr>\n",
       "      <th>1</th>\n",
       "      <td>1951</td>\n",
       "      <td>Canada</td>\n",
       "      <td>Various/Unknown</td>\n",
       "      <td>168511</td>\n",
       "      <td>168511</td>\n",
       "    </tr>\n",
       "    <tr>\n",
       "      <th>2</th>\n",
       "      <td>1952</td>\n",
       "      <td>Canada</td>\n",
       "      <td>Various/Unknown</td>\n",
       "      <td>154828</td>\n",
       "      <td>154828</td>\n",
       "    </tr>\n",
       "    <tr>\n",
       "      <th>3</th>\n",
       "      <td>1953</td>\n",
       "      <td>Canada</td>\n",
       "      <td>Various/Unknown</td>\n",
       "      <td>107004</td>\n",
       "      <td>107004</td>\n",
       "    </tr>\n",
       "    <tr>\n",
       "      <th>4</th>\n",
       "      <td>1954</td>\n",
       "      <td>Canada</td>\n",
       "      <td>Various/Unknown</td>\n",
       "      <td>75828</td>\n",
       "      <td>75828</td>\n",
       "    </tr>\n",
       "    <tr>\n",
       "      <th>5</th>\n",
       "      <td>1955</td>\n",
       "      <td>Canada</td>\n",
       "      <td>Various/Unknown</td>\n",
       "      <td>52551</td>\n",
       "      <td>52551</td>\n",
       "    </tr>\n",
       "  </tbody>\n",
       "</table>\n",
       "</div>"
      ],
      "text/plain": [
       "   Year Country / territory of asylum/residence           Origin  \\\n",
       "1  1951                                  Canada  Various/Unknown   \n",
       "2  1952                                  Canada  Various/Unknown   \n",
       "3  1953                                  Canada  Various/Unknown   \n",
       "4  1954                                  Canada  Various/Unknown   \n",
       "5  1955                                  Canada  Various/Unknown   \n",
       "\n",
       "  Refugees (incl. refugee-like situations) Total Population  \n",
       "1                                   168511           168511  \n",
       "2                                   154828           154828  \n",
       "3                                   107004           107004  \n",
       "4                                    75828            75828  \n",
       "5                                    52551            52551  "
      ]
     },
     "execution_count": 7,
     "metadata": {},
     "output_type": "execute_result"
    }
   ],
   "source": [
    "can_df = can_df_1.iloc[1: , :]\n",
    "\n",
    "can_df.head()"
   ]
  },
  {
   "cell_type": "code",
   "execution_count": 8,
   "metadata": {
    "inputHidden": false,
    "outputHidden": false
   },
   "outputs": [
    {
     "data": {
      "text/plain": [
       "Year                                        4281\n",
       "Country / territory of asylum/residence     4281\n",
       "Origin                                      4281\n",
       "Refugees (incl. refugee-like situations)    4114\n",
       "Total Population                            4281\n",
       "dtype: int64"
      ]
     },
     "execution_count": 8,
     "metadata": {},
     "output_type": "execute_result"
    }
   ],
   "source": [
    "# Verify dropped rows\n",
    "can_df.count()"
   ]
  },
  {
   "cell_type": "code",
   "execution_count": 9,
   "metadata": {
    "inputHidden": false,
    "outputHidden": false
   },
   "outputs": [
    {
     "data": {
      "text/plain": [
       "Year                                        object\n",
       "Country / territory of asylum/residence     object\n",
       "Origin                                      object\n",
       "Refugees (incl. refugee-like situations)    object\n",
       "Total Population                            object\n",
       "dtype: object"
      ]
     },
     "execution_count": 9,
     "metadata": {},
     "output_type": "execute_result"
    }
   ],
   "source": [
    "# The Amount column is the wrong data type. It should be numeric.\n",
    "can_df.dtypes"
   ]
  },
  {
   "cell_type": "code",
   "execution_count": 10,
   "metadata": {},
   "outputs": [],
   "source": [
    "# Remove the rows with missing values \n",
    "#can_df = can_df.loc[can_df['Refugees (incl. refugee-like situations)'] != \"*\"]\n",
    "can_df=can_df.replace('*', 0)"
   ]
  },
  {
   "cell_type": "code",
   "execution_count": 11,
   "metadata": {},
   "outputs": [],
   "source": [
    "# Use pd.to_numeric() method to convert the datatype of the Amount column\n",
    "can_df['Year'] = pd.to_numeric(can_df['Year'])\n",
    "can_df['Refugees (incl. refugee-like situations)'] = pd.to_numeric(can_df['Refugees (incl. refugee-like situations)'])\n",
    "can_df['Total Population'] = pd.to_numeric(can_df['Total Population'])"
   ]
  },
  {
   "cell_type": "code",
   "execution_count": 12,
   "metadata": {},
   "outputs": [
    {
     "data": {
      "text/plain": [
       "dtype('int64')"
      ]
     },
     "execution_count": 12,
     "metadata": {},
     "output_type": "execute_result"
    }
   ],
   "source": [
    "# Verify that the Amount column datatype has been made numeric\n",
    "can_df['Year'].dtype\n",
    "can_df['Refugees (incl. refugee-like situations)'].dtype\n",
    "can_df['Total Population'].dtype\n"
   ]
  },
  {
   "cell_type": "code",
   "execution_count": 13,
   "metadata": {},
   "outputs": [
    {
     "name": "stdout",
     "output_type": "stream",
     "text": [
      "<class 'pandas.core.frame.DataFrame'>\n",
      "RangeIndex: 4281 entries, 1 to 4281\n",
      "Data columns (total 5 columns):\n",
      "Year                                        4281 non-null int64\n",
      "Country / territory of asylum/residence     4281 non-null object\n",
      "Origin                                      4281 non-null object\n",
      "Refugees (incl. refugee-like situations)    4114 non-null float64\n",
      "Total Population                            4281 non-null int64\n",
      "dtypes: float64(1), int64(2), object(2)\n",
      "memory usage: 167.3+ KB\n"
     ]
    }
   ],
   "source": [
    "can_df.info()"
   ]
  },
  {
   "cell_type": "code",
   "execution_count": 14,
   "metadata": {
    "inputHidden": false,
    "outputHidden": false
   },
   "outputs": [
    {
     "data": {
      "text/html": [
       "<div>\n",
       "<style scoped>\n",
       "    .dataframe tbody tr th:only-of-type {\n",
       "        vertical-align: middle;\n",
       "    }\n",
       "\n",
       "    .dataframe tbody tr th {\n",
       "        vertical-align: top;\n",
       "    }\n",
       "\n",
       "    .dataframe thead th {\n",
       "        text-align: right;\n",
       "    }\n",
       "</style>\n",
       "<table border=\"1\" class=\"dataframe\">\n",
       "  <thead>\n",
       "    <tr style=\"text-align: right;\">\n",
       "      <th></th>\n",
       "      <th>Year</th>\n",
       "      <th>Country of residence</th>\n",
       "      <th>Origin</th>\n",
       "      <th>Refugees</th>\n",
       "      <th>Total Population</th>\n",
       "    </tr>\n",
       "  </thead>\n",
       "  <tbody>\n",
       "    <tr>\n",
       "      <th>1</th>\n",
       "      <td>1951</td>\n",
       "      <td>Canada</td>\n",
       "      <td>Various/Unknown</td>\n",
       "      <td>168511.0</td>\n",
       "      <td>168511</td>\n",
       "    </tr>\n",
       "    <tr>\n",
       "      <th>2</th>\n",
       "      <td>1952</td>\n",
       "      <td>Canada</td>\n",
       "      <td>Various/Unknown</td>\n",
       "      <td>154828.0</td>\n",
       "      <td>154828</td>\n",
       "    </tr>\n",
       "    <tr>\n",
       "      <th>3</th>\n",
       "      <td>1953</td>\n",
       "      <td>Canada</td>\n",
       "      <td>Various/Unknown</td>\n",
       "      <td>107004.0</td>\n",
       "      <td>107004</td>\n",
       "    </tr>\n",
       "    <tr>\n",
       "      <th>4</th>\n",
       "      <td>1954</td>\n",
       "      <td>Canada</td>\n",
       "      <td>Various/Unknown</td>\n",
       "      <td>75828.0</td>\n",
       "      <td>75828</td>\n",
       "    </tr>\n",
       "    <tr>\n",
       "      <th>5</th>\n",
       "      <td>1955</td>\n",
       "      <td>Canada</td>\n",
       "      <td>Various/Unknown</td>\n",
       "      <td>52551.0</td>\n",
       "      <td>52551</td>\n",
       "    </tr>\n",
       "  </tbody>\n",
       "</table>\n",
       "</div>"
      ],
      "text/plain": [
       "   Year Country of residence           Origin  Refugees  Total Population\n",
       "1  1951               Canada  Various/Unknown  168511.0            168511\n",
       "2  1952               Canada  Various/Unknown  154828.0            154828\n",
       "3  1953               Canada  Various/Unknown  107004.0            107004\n",
       "4  1954               Canada  Various/Unknown   75828.0             75828\n",
       "5  1955               Canada  Various/Unknown   52551.0             52551"
      ]
     },
     "execution_count": 14,
     "metadata": {},
     "output_type": "execute_result"
    }
   ],
   "source": [
    "# Rename columns for readability\n",
    "can_df_clean = can_df.rename(columns={\"Country / territory of asylum/residence\": \"Country of residence\",\n",
    "                                                \"Refugees (incl. refugee-like situations)\": \"Refugees\",\n",
    "                                                                                                })\n",
    "\n",
    "can_df_clean.head()"
   ]
  },
  {
   "cell_type": "code",
   "execution_count": 17,
   "metadata": {},
   "outputs": [
    {
     "ename": "NameError",
     "evalue": "name 'usa_new' is not defined",
     "output_type": "error",
     "traceback": [
      "\u001b[1;31m---------------------------------------------------------------------------\u001b[0m",
      "\u001b[1;31mNameError\u001b[0m                                 Traceback (most recent call last)",
      "\u001b[1;32m<ipython-input-17-ac1a124341c4>\u001b[0m in \u001b[0;36m<module>\u001b[1;34m\u001b[0m\n\u001b[1;32m----> 1\u001b[1;33m \u001b[0musa_2000_15\u001b[0m\u001b[1;33m=\u001b[0m\u001b[0musa_new\u001b[0m\u001b[1;33m.\u001b[0m\u001b[0mloc\u001b[0m\u001b[1;33m[\u001b[0m\u001b[1;33m(\u001b[0m\u001b[0musa_new\u001b[0m\u001b[1;33m[\u001b[0m\u001b[1;34m\"Year\"\u001b[0m\u001b[1;33m]\u001b[0m\u001b[1;33m>=\u001b[0m\u001b[1;36m2000\u001b[0m\u001b[1;33m)\u001b[0m \u001b[1;33m&\u001b[0m \u001b[1;33m(\u001b[0m\u001b[0musa_new\u001b[0m\u001b[1;33m[\u001b[0m\u001b[1;34m\"Year\"\u001b[0m\u001b[1;33m]\u001b[0m\u001b[1;33m<=\u001b[0m\u001b[1;36m2015\u001b[0m\u001b[1;33m)\u001b[0m\u001b[1;33m,\u001b[0m\u001b[1;33m:\u001b[0m\u001b[1;33m]\u001b[0m\u001b[1;33m\u001b[0m\u001b[1;33m\u001b[0m\u001b[0m\n\u001b[0m\u001b[0;32m      2\u001b[0m \u001b[0musa_2000_15\u001b[0m\u001b[1;33m.\u001b[0m\u001b[0mhead\u001b[0m\u001b[1;33m(\u001b[0m\u001b[1;33m)\u001b[0m\u001b[1;33m\u001b[0m\u001b[1;33m\u001b[0m\u001b[0m\n",
      "\u001b[1;31mNameError\u001b[0m: name 'usa_new' is not defined"
     ]
    }
   ],
   "source": [
    "usa_2000_15=usa_new.loc[(usa_new[\"Year\"]>=2000) & (usa_new[\"Year\"]<=2015),:]\n",
    "usa_2000_15.head()"
   ]
  },
  {
   "cell_type": "code",
   "execution_count": 18,
   "metadata": {},
   "outputs": [
    {
     "ename": "PermissionError",
     "evalue": "[Errno 13] Permission denied: 'can_cleaned_final.csv'",
     "output_type": "error",
     "traceback": [
      "\u001b[1;31m---------------------------------------------------------------------------\u001b[0m",
      "\u001b[1;31mPermissionError\u001b[0m                           Traceback (most recent call last)",
      "\u001b[1;32m<ipython-input-18-461b4abdad3d>\u001b[0m in \u001b[0;36m<module>\u001b[1;34m\u001b[0m\n\u001b[0;32m      1\u001b[0m \u001b[1;31m# Export file as a CSV, without the Pandas index, but with the header\u001b[0m\u001b[1;33m\u001b[0m\u001b[1;33m\u001b[0m\u001b[1;33m\u001b[0m\u001b[0m\n\u001b[1;32m----> 2\u001b[1;33m \u001b[0mcan_df_clean_2000_15\u001b[0m\u001b[1;33m.\u001b[0m\u001b[0mto_csv\u001b[0m\u001b[1;33m(\u001b[0m\u001b[1;34m\"can_cleaned_final.csv\"\u001b[0m\u001b[1;33m,\u001b[0m \u001b[0mindex\u001b[0m\u001b[1;33m=\u001b[0m\u001b[1;32mFalse\u001b[0m\u001b[1;33m,\u001b[0m \u001b[0mheader\u001b[0m\u001b[1;33m=\u001b[0m\u001b[1;32mTrue\u001b[0m\u001b[1;33m)\u001b[0m\u001b[1;33m\u001b[0m\u001b[1;33m\u001b[0m\u001b[0m\n\u001b[0m",
      "\u001b[1;32m~\\Anaconda3\\lib\\site-packages\\pandas\\core\\frame.py\u001b[0m in \u001b[0;36mto_csv\u001b[1;34m(self, path_or_buf, sep, na_rep, float_format, columns, header, index, index_label, mode, encoding, compression, quoting, quotechar, line_terminator, chunksize, tupleize_cols, date_format, doublequote, escapechar, decimal)\u001b[0m\n\u001b[0;32m   1743\u001b[0m                                  \u001b[0mdoublequote\u001b[0m\u001b[1;33m=\u001b[0m\u001b[0mdoublequote\u001b[0m\u001b[1;33m,\u001b[0m\u001b[1;33m\u001b[0m\u001b[1;33m\u001b[0m\u001b[0m\n\u001b[0;32m   1744\u001b[0m                                  escapechar=escapechar, decimal=decimal)\n\u001b[1;32m-> 1745\u001b[1;33m         \u001b[0mformatter\u001b[0m\u001b[1;33m.\u001b[0m\u001b[0msave\u001b[0m\u001b[1;33m(\u001b[0m\u001b[1;33m)\u001b[0m\u001b[1;33m\u001b[0m\u001b[1;33m\u001b[0m\u001b[0m\n\u001b[0m\u001b[0;32m   1746\u001b[0m \u001b[1;33m\u001b[0m\u001b[0m\n\u001b[0;32m   1747\u001b[0m         \u001b[1;32mif\u001b[0m \u001b[0mpath_or_buf\u001b[0m \u001b[1;32mis\u001b[0m \u001b[1;32mNone\u001b[0m\u001b[1;33m:\u001b[0m\u001b[1;33m\u001b[0m\u001b[1;33m\u001b[0m\u001b[0m\n",
      "\u001b[1;32m~\\Anaconda3\\lib\\site-packages\\pandas\\io\\formats\\csvs.py\u001b[0m in \u001b[0;36msave\u001b[1;34m(self)\u001b[0m\n\u001b[0;32m    154\u001b[0m             f, handles = _get_handle(self.path_or_buf, self.mode,\n\u001b[0;32m    155\u001b[0m                                      \u001b[0mencoding\u001b[0m\u001b[1;33m=\u001b[0m\u001b[0mencoding\u001b[0m\u001b[1;33m,\u001b[0m\u001b[1;33m\u001b[0m\u001b[1;33m\u001b[0m\u001b[0m\n\u001b[1;32m--> 156\u001b[1;33m                                      compression=self.compression)\n\u001b[0m\u001b[0;32m    157\u001b[0m             \u001b[0mclose\u001b[0m \u001b[1;33m=\u001b[0m \u001b[1;32mTrue\u001b[0m\u001b[1;33m\u001b[0m\u001b[1;33m\u001b[0m\u001b[0m\n\u001b[0;32m    158\u001b[0m \u001b[1;33m\u001b[0m\u001b[0m\n",
      "\u001b[1;32m~\\Anaconda3\\lib\\site-packages\\pandas\\io\\common.py\u001b[0m in \u001b[0;36m_get_handle\u001b[1;34m(path_or_buf, mode, encoding, compression, memory_map, is_text)\u001b[0m\n\u001b[0;32m    398\u001b[0m         \u001b[1;32melif\u001b[0m \u001b[0mencoding\u001b[0m\u001b[1;33m:\u001b[0m\u001b[1;33m\u001b[0m\u001b[1;33m\u001b[0m\u001b[0m\n\u001b[0;32m    399\u001b[0m             \u001b[1;31m# Python 3 and encoding\u001b[0m\u001b[1;33m\u001b[0m\u001b[1;33m\u001b[0m\u001b[1;33m\u001b[0m\u001b[0m\n\u001b[1;32m--> 400\u001b[1;33m             \u001b[0mf\u001b[0m \u001b[1;33m=\u001b[0m \u001b[0mopen\u001b[0m\u001b[1;33m(\u001b[0m\u001b[0mpath_or_buf\u001b[0m\u001b[1;33m,\u001b[0m \u001b[0mmode\u001b[0m\u001b[1;33m,\u001b[0m \u001b[0mencoding\u001b[0m\u001b[1;33m=\u001b[0m\u001b[0mencoding\u001b[0m\u001b[1;33m)\u001b[0m\u001b[1;33m\u001b[0m\u001b[1;33m\u001b[0m\u001b[0m\n\u001b[0m\u001b[0;32m    401\u001b[0m         \u001b[1;32melif\u001b[0m \u001b[0mis_text\u001b[0m\u001b[1;33m:\u001b[0m\u001b[1;33m\u001b[0m\u001b[1;33m\u001b[0m\u001b[0m\n\u001b[0;32m    402\u001b[0m             \u001b[1;31m# Python 3 and no explicit encoding\u001b[0m\u001b[1;33m\u001b[0m\u001b[1;33m\u001b[0m\u001b[1;33m\u001b[0m\u001b[0m\n",
      "\u001b[1;31mPermissionError\u001b[0m: [Errno 13] Permission denied: 'can_cleaned_final.csv'"
     ]
    }
   ],
   "source": [
    "# Export file as a CSV, without the Pandas index, but with the header\n",
    "can_df_clean_2000_15.to_csv(\"can_cleaned_final.csv\", index=False, header=True)"
   ]
  }
 ],
 "metadata": {
  "anaconda-cloud": {},
  "kernel_info": {
   "name": "python3"
  },
  "kernelspec": {
   "display_name": "Python 3",
   "language": "python",
   "name": "python3"
  },
  "language_info": {
   "codemirror_mode": {
    "name": "ipython",
    "version": 3
   },
   "file_extension": ".py",
   "mimetype": "text/x-python",
   "name": "python",
   "nbconvert_exporter": "python",
   "pygments_lexer": "ipython3",
   "version": "3.7.1"
  },
  "nteract": {
   "version": "0.2.0"
  }
 },
 "nbformat": 4,
 "nbformat_minor": 2
}
